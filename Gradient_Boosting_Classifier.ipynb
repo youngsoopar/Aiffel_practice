{
  "nbformat": 4,
  "nbformat_minor": 0,
  "metadata": {
    "colab": {
      "provenance": [],
      "authorship_tag": "ABX9TyPA3suKGf5DVUC9SxlWbBy4",
      "include_colab_link": true
    },
    "kernelspec": {
      "name": "python3",
      "display_name": "Python 3"
    },
    "language_info": {
      "name": "python"
    }
  },
  "cells": [
    {
      "cell_type": "markdown",
      "metadata": {
        "id": "view-in-github",
        "colab_type": "text"
      },
      "source": [
        "<a href=\"https://colab.research.google.com/github/youngsoopar/Aiffel_practice/blob/main/Gradient_Boosting_Classifier.ipynb\" target=\"_parent\"><img src=\"https://colab.research.google.com/assets/colab-badge.svg\" alt=\"Open In Colab\"/></a>"
      ]
    },
    {
      "cell_type": "code",
      "execution_count": null,
      "metadata": {
        "id": "B4pNB106P2ew"
      },
      "outputs": [],
      "source": []
    },
    {
      "cell_type": "markdown",
      "source": [
        "# Gradient Boosting이란?\n",
        "\n",
        "## 1. Gradient Boosting 정의\n",
        "### Gradient Boosting 이란 Gradient(또는 잔차(Residual))를 이용하여 이전 모형의 약점을 보완하는 새로운 모형을 순차적으로 적합한 뒤 이들을 선형 결합하여 얻어진 모형을 생성하는 지도 학습 알고리즘\n",
        "\n",
        "https://zephyrus1111.tistory.com/224\n",
        "\n",
        "## 2. Adaboost 와 gradient Boosting의 차이\n",
        "- AdaBoost\n",
        "  - AdaBoost는 초기 각 데이터 포인트에 동일한 가중치를 할당 이후엔 이전 모델의 오차에 높은 가중치를 부여하며 모델 개선\n",
        "\n",
        "- Gradient Boosting\n",
        "  - Gradient Boosting은 이전 모델의 잔차(실제와 예측값 차이)를 다음 모델이 학습\n",
        "  - 각 모델은 이전 모델이 만든 오차를 줄이는 방향으로 학습됩니다.\n",
        "  - 경사 하강법(Gradient Descent)과 비슷한 개념 사용\n",
        "\n",
        "\n",
        "## 3. Gradient Boosting의 특징\n",
        "\n",
        "- 장점\n",
        "  - 구현이 쉬움 : 알고리즘 자체가 구현하기 어려운 것이 아님\n",
        "  기본 학습기 (Base Learner)만 잘 구현되면 됨\n",
        "\n",
        "  - 정확도가 좋음 : 잔차를 계속해서 줄여나가기 때문\n",
        "\n",
        "  - 굉장히 유연 : 기본 학습기에 제한이 되지 않아 여러모형과 여러 손실 함수 적용이 가능\n",
        "\n",
        "- 단점\n",
        "  - 과적합 가능성 : 잔차를 계속 줄인다는게 장점이 되지만 Noise가 발생할 경우 과적합이 발생할 수 있다.\n",
        "\n",
        "  - 메모리 문제 : M 만큼의 반복을 해야하므로 많은 메모리 사용가능성이 높다. (base_estimator가 의사결정나무로 고정)\n",
        "\n",
        "  - 해석의 어려움 : 각 입력변수에 대해 출력 변수가 어떻게 변하는지 어려움.\n",
        "\n",
        "---\n",
        "\n",
        "## 4. Gradient Boosting Classifier\n"
      ],
      "metadata": {
        "id": "1SZaDjnTP7yR"
      }
    },
    {
      "cell_type": "code",
      "source": [
        "#호출\n",
        "from sklearn.ensemble import GradientBoostingClassifier"
      ],
      "metadata": {
        "id": "O2DqDh4jaEo5"
      },
      "execution_count": 2,
      "outputs": []
    },
    {
      "cell_type": "code",
      "source": [
        "#clf = GradientBoostingClassifier(\n",
        "            loss='deviance', ## ‘deviance’, ‘exponential’ d = log_loss\n",
        "            learning_rate=1, ##  스텝 사이즈 ,d = 0.1\n",
        "            criterion='squared_error', ## 개별 트리의 불순도 측도, d = 'friedman_mse'\n",
        "            n_estimators=3, ## 반복수 또는 base_estimator 개수, d = 100  ?? : 공식문서에서 GBC는 overfitting에 강건하다???\n",
        "            #The number of boosting stages to perform. Gradient boosting is fairly robust to over-fitting so a large number usually results in better performance. Values must be in the range [1, inf).\n",
        "\n",
        "            min_samples_leaf=5, ## 개별 트리 최소 끝마디 샘플 수, d = 1\n",
        "            max_depth=3, ## 개별트리 최대 깊이, d = 3\n",
        "            subsample = 0.8,  ## d = 1.0\n",
        "            random_state=100"
      ],
      "metadata": {
        "id": "KyTRTRfIaL9z"
      },
      "execution_count": null,
      "outputs": []
    },
    {
      "cell_type": "code",
      "source": [],
      "metadata": {
        "id": "N6dFhFN-dXLQ"
      },
      "execution_count": null,
      "outputs": []
    }
  ]
}