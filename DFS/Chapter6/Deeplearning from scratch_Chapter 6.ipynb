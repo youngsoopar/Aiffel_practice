{
 "cells": [
  {
   "cell_type": "markdown",
   "id": "1331586f",
   "metadata": {},
   "source": [
    "# 6.2 가중치의 초깃값\n",
    "\n",
    "\n",
    "--- \n",
    "## 6.2.1 초깃값을 0으로 하면?\n",
    "\n",
    "\n",
    "- 가중치의 초기값은 균일값(0도 포함)으로 설정하면 안된다.\n",
    "    - 역전파시 모든 가중치의 값이 똑같이 갱신되기 때문\n",
    "    - 그러므로 가중치의 초깃값을 무작위로 설정해야 함\n",
    "    - 가중치의 초깃값을 어떻게 설정하냐는 활성화함수를 어떤것을 쓰는지를 확인해야함.\n",
    "   "
   ]
  },
  {
   "cell_type": "markdown",
   "id": "0fb05900",
   "metadata": {},
   "source": [
    "### Xavier 초깃값\n",
    "\n",
    "--- \n",
    "- 사비에르 글로르트와 요슈아 벤지오의 논문에서 권장하는 가중치 초깃값\n",
    "- 앞 계층의 노드가 N개 라면 표준편차가 1 / sqrt(N) 인 분포를 사용.\n",
    "- Xavier 초깃값을 사용하면 앞 층에 노드가 많을수록 대상 노드의 초깃값으로 설정하는 가중치가 좁게 퍼진다. \n",
    "- Sigmoid 함수가 표현력의 제한도 받지 않으면서 효율적으로 학습할 수 있도록 한다.\n",
    "- *그림 6-13 처럼 sigmoid 함수가 일그러지는 것을 방지하기 위해서 tanh 함수를 사용하여 개선"
   ]
  },
  {
   "cell_type": "code",
   "execution_count": 2,
   "id": "6689fd24",
   "metadata": {},
   "outputs": [],
   "source": [
    "# node_num = 100        < 앞층의 노드 수\n",
    "# w = np.random.randn(node_num, node_num) / np.sqrt(node_num)    < np.sqrt(node_num)으로 나누어 주고 있음"
   ]
  },
  {
   "cell_type": "markdown",
   "id": "711ad24f",
   "metadata": {},
   "source": [
    "### He 초깃값\n",
    "\n",
    "--- \n",
    "- Xaiver 초깃값은 활성화 함수가 선형일때를 전제 (sigmoid 와 tanh 함수의 중앙 부근은 선형)\n",
    "- 그러므로 ReLU 에는 맞지 않음을 고려하여 He 초깃값 사용\n",
    "- 앞 계층의노드가 N개라면 표준편차가 2/ sqrt(N)인 분포 사용 (음의 영역이 0인 ReLU 이므로 2배 넓게 분포시키기 위해)\n"
   ]
  },
  {
   "cell_type": "code",
   "execution_count": null,
   "id": "a12661c3",
   "metadata": {},
   "outputs": [],
   "source": []
  },
  {
   "cell_type": "code",
   "execution_count": 1,
   "id": "72dfd8d5",
   "metadata": {},
   "outputs": [
    {
     "ename": "SyntaxError",
     "evalue": "(unicode error) 'unicodeescape' codec can't decode bytes in position 2-3: truncated \\UXXXXXXXX escape (435946525.py, line 3)",
     "output_type": "error",
     "traceback": [
      "\u001b[0;36m  File \u001b[0;32m\"/tmp/ipykernel_47/435946525.py\"\u001b[0;36m, line \u001b[0;32m3\u001b[0m\n\u001b[0;31m    Image(\"C:\\Users\\USER\\Desktop\\아이펠\\DFS/6.2.2_6-10.png\")\u001b[0m\n\u001b[0m                                                        ^\u001b[0m\n\u001b[0;31mSyntaxError\u001b[0m\u001b[0;31m:\u001b[0m (unicode error) 'unicodeescape' codec can't decode bytes in position 2-3: truncated \\UXXXXXXXX escape\n"
     ]
    }
   ],
   "source": [
    "# !pip install IPython \n",
    "from IPython.display import Image\n",
    "Image(\"C:\\Users\\USER\\Desktop\\아이펠\\DFS/6.2.2_6-10.png\")"
   ]
  },
  {
   "cell_type": "markdown",
   "id": "eada82d4",
   "metadata": {},
   "source": [
    "# 6.3 배치 정규화\n",
    "\n",
    "---\n",
    "- 가중치의 초깃값을 적절히 설정하면 학습이 원활해지는 것을 앞 절에서 확인\n",
    "- 이러한 활성화를 적당히 퍼뜨리는 것을 강제시키는 방법"
   ]
  },
  {
   "cell_type": "markdown",
   "id": "4bf5081c",
   "metadata": {},
   "source": [
    "### 배치 정규화 의 특징\n",
    "\n",
    "---\n",
    "- 빠른 학습 진행\n",
    "- 초깃값 선택에 의존되지 않음 (초깃값 선택 문제를 고려하지 않아도 됨)\n",
    "- 오버피팅을 억제 (드롭아웃등의 필요성 감소)"
   ]
  },
  {
   "cell_type": "code",
   "execution_count": null,
   "id": "20501aa4",
   "metadata": {},
   "outputs": [],
   "source": []
  }
 ],
 "metadata": {
  "kernelspec": {
   "display_name": "Python 3 (ipykernel)",
   "language": "python",
   "name": "python3"
  },
  "language_info": {
   "codemirror_mode": {
    "name": "ipython",
    "version": 3
   },
   "file_extension": ".py",
   "mimetype": "text/x-python",
   "name": "python",
   "nbconvert_exporter": "python",
   "pygments_lexer": "ipython3",
   "version": "3.9.7"
  }
 },
 "nbformat": 4,
 "nbformat_minor": 5
}
